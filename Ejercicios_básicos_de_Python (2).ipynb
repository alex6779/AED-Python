{
  "nbformat": 4,
  "nbformat_minor": 0,
  "metadata": {
    "colab": {
      "name": "Ejercicios_básicos_de_Python.ipynb",
      "provenance": []
    },
    "kernelspec": {
      "name": "python3",
      "display_name": "Python 3"
    },
    "language_info": {
      "name": "python"
    }
  },
  "cells": [
    {
      "cell_type": "markdown",
      "metadata": {
        "id": "RL-pITQqPt9a"
      },
      "source": [
        "1. Crea una lista denominada \"islas\" con los nombres de las Islas Canarias (sin La Graciosa)"
      ]
    },
    {
      "cell_type": "code",
      "metadata": {
        "colab": {
          "base_uri": "https://localhost:8080/"
        },
        "id": "5UUESMwtNuv4",
        "outputId": "ccf20bfd-7c54-4947-d2c6-74b1f99c3ae8"
      },
      "source": [
        "islas = [\"Lanzarote\",\"Fuerteventura\",\"Gran Canaria\",\"Tenerife\",\"La Gomera\",\"La Palma\",\"El Hierro\"]\n",
        "print(islas)"
      ],
      "execution_count": 2,
      "outputs": [
        {
          "output_type": "stream",
          "name": "stdout",
          "text": [
            "['Lanzarote', 'Fuerteventura', 'Gran Canaria', 'Tenerife', 'La Gomera', 'La Palma', 'El Hierro']\n"
          ]
        }
      ]
    },
    {
      "cell_type": "markdown",
      "metadata": {
        "id": "5eE8YxLAOq1H"
      },
      "source": [
        ""
      ]
    },
    {
      "cell_type": "markdown",
      "metadata": {
        "id": "F0uHBoNIQaol"
      },
      "source": [
        "2. Muestre el tipo de dato de \"islas\""
      ]
    },
    {
      "cell_type": "code",
      "metadata": {
        "id": "5RJrKgiAOvyY",
        "colab": {
          "base_uri": "https://localhost:8080/"
        },
        "outputId": "d92b8ecd-823b-4693-91a9-f6381c164517"
      },
      "source": [
        "type (islas)"
      ],
      "execution_count": null,
      "outputs": [
        {
          "output_type": "execute_result",
          "data": {
            "text/plain": [
              "list"
            ]
          },
          "metadata": {},
          "execution_count": 6
        }
      ]
    },
    {
      "cell_type": "markdown",
      "metadata": {
        "id": "vtIi_BKuQhzB"
      },
      "source": [
        "3. ¿Cuántos elementos tiene la lista?"
      ]
    },
    {
      "cell_type": "code",
      "metadata": {
        "id": "FQ9vY9l4PXq4",
        "colab": {
          "base_uri": "https://localhost:8080/"
        },
        "outputId": "daec8b03-6553-4216-874f-c118e902b773"
      },
      "source": [
        "len (islas)"
      ],
      "execution_count": null,
      "outputs": [
        {
          "output_type": "execute_result",
          "data": {
            "text/plain": [
              "7"
            ]
          },
          "metadata": {},
          "execution_count": 7
        }
      ]
    },
    {
      "cell_type": "markdown",
      "metadata": {
        "id": "jdjxinSmQ07Z"
      },
      "source": [
        "4. Muestra el primer elemento de la lista. Muestre después el cuarto elemento de la lista"
      ]
    },
    {
      "cell_type": "code",
      "metadata": {
        "id": "UtxP0nzGPdDQ",
        "colab": {
          "base_uri": "https://localhost:8080/"
        },
        "outputId": "3c5a7647-ff70-4f16-f6a7-b059e239dcd1"
      },
      "source": [
        "print(islas[0])\n",
        "print(islas[3])"
      ],
      "execution_count": 5,
      "outputs": [
        {
          "output_type": "stream",
          "name": "stdout",
          "text": [
            "Lanzarote\n",
            "Tenerife\n"
          ]
        }
      ]
    },
    {
      "cell_type": "markdown",
      "metadata": {
        "id": "92cUTXBLRKnG"
      },
      "source": [
        "5. Muestra el tipo de dato del primer elemento de la lista"
      ]
    },
    {
      "cell_type": "code",
      "metadata": {
        "id": "Le1wZ69UPoqo",
        "colab": {
          "base_uri": "https://localhost:8080/"
        },
        "outputId": "83b3c3b9-0bf6-4fe6-f596-8dcd33c8b608"
      },
      "source": [
        "type(islas[1])"
      ],
      "execution_count": null,
      "outputs": [
        {
          "output_type": "execute_result",
          "data": {
            "text/plain": [
              "str"
            ]
          },
          "metadata": {},
          "execution_count": 10
        }
      ]
    },
    {
      "cell_type": "markdown",
      "metadata": {
        "id": "0ZOTl4bnRQj2"
      },
      "source": [
        "6. Ordena la lista \"islas\" por orden alfabético y muéstrela en pantalla"
      ]
    },
    {
      "cell_type": "code",
      "metadata": {
        "id": "6wE2SU-rP7TJ",
        "outputId": "817f35c6-e212-4ca9-af90-1b25c00ddf35",
        "colab": {
          "base_uri": "https://localhost:8080/"
        }
      },
      "source": [
        "print(sorted(islas))"
      ],
      "execution_count": 6,
      "outputs": [
        {
          "output_type": "stream",
          "name": "stdout",
          "text": [
            "['El Hierro', 'Fuerteventura', 'Gran Canaria', 'La Gomera', 'La Palma', 'Lanzarote', 'Tenerife']\n"
          ]
        }
      ]
    },
    {
      "cell_type": "markdown",
      "metadata": {
        "id": "SoBsVMqwTK5m"
      },
      "source": [
        "7. Muestra el último elemento de la lista"
      ]
    },
    {
      "cell_type": "code",
      "metadata": {
        "id": "dCCTflaxP8Do",
        "colab": {
          "base_uri": "https://localhost:8080/",
          "height": 35
        },
        "outputId": "10938e95-cfa9-4c4a-9089-2d7e54b25009"
      },
      "source": [
        "islas[-1]"
      ],
      "execution_count": null,
      "outputs": [
        {
          "output_type": "execute_result",
          "data": {
            "application/vnd.google.colaboratory.intrinsic+json": {
              "type": "string"
            },
            "text/plain": [
              "'El Hierro'"
            ]
          },
          "metadata": {},
          "execution_count": 13
        }
      ]
    },
    {
      "cell_type": "markdown",
      "metadata": {
        "id": "B-a55S5hTaYJ"
      },
      "source": [
        "8. Muestra los tres primeros elementos de la lista"
      ]
    },
    {
      "cell_type": "code",
      "metadata": {
        "id": "RVKS9VKbQMdZ",
        "colab": {
          "base_uri": "https://localhost:8080/"
        },
        "outputId": "b147c7e8-3ed3-4387-8006-4f681add5664"
      },
      "source": [
        "print(islas[0:3])"
      ],
      "execution_count": null,
      "outputs": [
        {
          "output_type": "stream",
          "name": "stdout",
          "text": [
            "['Lanzarote', 'Fuerteventura', 'Gran Canaria']\n"
          ]
        }
      ]
    },
    {
      "cell_type": "markdown",
      "metadata": {
        "id": "Nn98RkJwToVq"
      },
      "source": [
        "9. Muestra los dos últimos elementos de la lista"
      ]
    },
    {
      "cell_type": "code",
      "metadata": {
        "id": "buWYjU7sQap4",
        "colab": {
          "base_uri": "https://localhost:8080/"
        },
        "outputId": "df298762-758d-486f-e25c-5982140294d2"
      },
      "source": [
        "print(islas[-1])\n",
        "print(islas[-2])"
      ],
      "execution_count": 9,
      "outputs": [
        {
          "output_type": "stream",
          "name": "stdout",
          "text": [
            "El Hierro\n",
            "La Palma\n"
          ]
        }
      ]
    },
    {
      "cell_type": "markdown",
      "metadata": {
        "id": "3wYntBwBXL3P"
      },
      "source": [
        "10. ¿Qué posición ocupa \"La Gomera\" en la lista \"islas\"?"
      ]
    },
    {
      "cell_type": "code",
      "metadata": {
        "id": "pVPjIbsVHmjK",
        "outputId": "cd70d2e7-a639-4929-dc75-9b602c90b18b",
        "colab": {
          "base_uri": "https://localhost:8080/"
        }
      },
      "source": [
        "print(islas.index(\"La Gomera\"))"
      ],
      "execution_count": 3,
      "outputs": [
        {
          "output_type": "stream",
          "name": "stdout",
          "text": [
            "4\n"
          ]
        }
      ]
    },
    {
      "cell_type": "markdown",
      "metadata": {
        "id": "74LCirh7T434"
      },
      "source": [
        "11. Añade \"La Graciosa\" a la lista \"islas\""
      ]
    },
    {
      "cell_type": "code",
      "metadata": {
        "id": "c3_3BWBBIQEC"
      },
      "source": [
        "islas.append(\"La Graciosa\")"
      ],
      "execution_count": 10,
      "outputs": []
    },
    {
      "cell_type": "markdown",
      "metadata": {
        "id": "Ajf8AN-7Wb9K"
      },
      "source": [
        "12. Comprueba si \"La Graciosa\" está en la lista \"islas\""
      ]
    },
    {
      "cell_type": "code",
      "metadata": {
        "id": "GUMd39Z_IsQx",
        "outputId": "c1ba493a-cddd-4ebb-c71c-6e2ec845ccec",
        "colab": {
          "base_uri": "https://localhost:8080/"
        }
      },
      "source": [
        "print(islas[:])"
      ],
      "execution_count": 11,
      "outputs": [
        {
          "output_type": "stream",
          "name": "stdout",
          "text": [
            "['Lanzarote', 'Fuerteventura', 'Gran Canaria', 'Tenerife', 'La Gomera', 'La Palma', 'El Hierro', 'La Graciosa']\n"
          ]
        }
      ]
    },
    {
      "cell_type": "markdown",
      "metadata": {
        "id": "-2PaFdVfW0W1"
      },
      "source": [
        "13. Elimina \"La Graciosa\" de la lista \"islas\" y compruebe si \"La Graciosa\" está en la lista \"islas\""
      ]
    },
    {
      "cell_type": "code",
      "metadata": {
        "id": "OGM1IuV0I1ur",
        "outputId": "56172dca-a2be-42db-fa0d-aed6ea971b6d",
        "colab": {
          "base_uri": "https://localhost:8080/"
        }
      },
      "source": [
        "islas.remove(\"La Graciosa\")\n",
        "print(islas[:])"
      ],
      "execution_count": 12,
      "outputs": [
        {
          "output_type": "stream",
          "name": "stdout",
          "text": [
            "['Lanzarote', 'Fuerteventura', 'Gran Canaria', 'Tenerife', 'La Gomera', 'La Palma', 'El Hierro']\n"
          ]
        }
      ]
    },
    {
      "cell_type": "markdown",
      "metadata": {
        "id": "mag-C9DnYxM1"
      },
      "source": [
        "14. Muestra los elementos de la lista de uno en uno"
      ]
    },
    {
      "cell_type": "code",
      "metadata": {
        "id": "GnlJHRlGI-Yi",
        "outputId": "b5e0fdac-8077-4926-f30d-0763454c4c00",
        "colab": {
          "base_uri": "https://localhost:8080/"
        }
      },
      "source": [
        "list(enumerate(islas))"
      ],
      "execution_count": 17,
      "outputs": [
        {
          "output_type": "execute_result",
          "data": {
            "text/plain": [
              "[(0, 'Lanzarote'),\n",
              " (1, 'Fuerteventura'),\n",
              " (2, 'Gran Canaria'),\n",
              " (3, 'Tenerife'),\n",
              " (4, 'La Gomera'),\n",
              " (5, 'La Palma'),\n",
              " (6, 'El Hierro')]"
            ]
          },
          "metadata": {},
          "execution_count": 17
        }
      ]
    },
    {
      "cell_type": "markdown",
      "metadata": {
        "id": "f44HAA2IIfIZ"
      },
      "source": [
        "15. Pregúntale al usuario en qué isla reside, almacénelo en la variable isla e indique al usuario \"Resides en la isla ....\""
      ]
    },
    {
      "cell_type": "code",
      "metadata": {
        "id": "Iv3SM1nuJI55",
        "outputId": "3abfb8be-4c13-4019-d5f3-098d005bada1",
        "colab": {
          "base_uri": "https://localhost:8080/"
        }
      },
      "source": [
        "\n",
        "p=input(\"En que islas resides \")\n",
        "print(\"Resides en la isla\",p)\n"
      ],
      "execution_count": 16,
      "outputs": [
        {
          "output_type": "stream",
          "name": "stdout",
          "text": [
            "En que islas residesGran Canaria\n",
            "Resides en la isla Gran Canaria\n"
          ]
        }
      ]
    },
    {
      "cell_type": "markdown",
      "metadata": {
        "id": "cIWa1oxZJCeZ"
      },
      "source": [
        "16. Comprueba si la isla está en la lista de islas y muestre un mensaje indicando \"Resides en una isla de las Islas Canarias\" en caso afirmativo o \"La isla .... no pertenece a las Islas Canarias\" en caso negativo"
      ]
    },
    {
      "cell_type": "code",
      "metadata": {
        "id": "nrlR0RLVJz8C",
        "outputId": "35ba490a-6490-4011-e736-e75ffd58d63e",
        "colab": {
          "base_uri": "https://localhost:8080/"
        }
      },
      "source": [
        "p=input(\"En que islas resides \")\n",
        "if(p in islas):\n",
        "  print(\"esa isla está en las islas de Gran Canaria\")\n",
        "else:\n",
        "  print(\"esa isla no está en las islas de Gran Canaria\")"
      ],
      "execution_count": 22,
      "outputs": [
        {
          "output_type": "stream",
          "name": "stdout",
          "text": [
            "En que islas resides Fuerteventura\n",
            "esa isla está en las islas de Gran Canaria\n"
          ]
        }
      ]
    }
  ]
}